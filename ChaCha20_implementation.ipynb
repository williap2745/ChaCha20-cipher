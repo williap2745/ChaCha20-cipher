{
  "nbformat": 4,
  "nbformat_minor": 0,
  "metadata": {
    "colab": {
      "provenance": [],
      "authorship_tag": "ABX9TyNoA9ybtuABK1AgK5rwmrup",
      "include_colab_link": true
    },
    "kernelspec": {
      "name": "python3",
      "display_name": "Python 3"
    },
    "language_info": {
      "name": "python"
    }
  },
  "cells": [
    {
      "cell_type": "markdown",
      "metadata": {
        "id": "view-in-github",
        "colab_type": "text"
      },
      "source": [
        "<a href=\"https://colab.research.google.com/github/williap2745/ChaCha20-cipher/blob/adding-code/ChaCha20_implementation.ipynb\" target=\"_parent\"><img src=\"https://colab.research.google.com/assets/colab-badge.svg\" alt=\"Open In Colab\"/></a>"
      ]
    },
    {
      "cell_type": "code",
      "source": [
        "!pip install pycryptodome"
      ],
      "metadata": {
        "colab": {
          "base_uri": "https://localhost:8080/"
        },
        "id": "wgEa7fa7jWa5",
        "outputId": "c1e7eb08-7a7d-4204-d3f6-00f317033bfb"
      },
      "execution_count": 2,
      "outputs": [
        {
          "output_type": "stream",
          "name": "stdout",
          "text": [
            "Collecting pycryptodome\n",
            "  Downloading pycryptodome-3.22.0-cp37-abi3-manylinux_2_17_x86_64.manylinux2014_x86_64.whl.metadata (3.4 kB)\n",
            "Downloading pycryptodome-3.22.0-cp37-abi3-manylinux_2_17_x86_64.manylinux2014_x86_64.whl (2.3 MB)\n",
            "\u001b[?25l   \u001b[90m━━━━━━━━━━━━━━━━━━━━━━━━━━━━━━━━━━━━━━━━\u001b[0m \u001b[32m0.0/2.3 MB\u001b[0m \u001b[31m?\u001b[0m eta \u001b[36m-:--:--\u001b[0m\r\u001b[2K   \u001b[91m━━\u001b[0m\u001b[91m╸\u001b[0m\u001b[90m━━━━━━━━━━━━━━━━━━━━━━━━━━━━━━━━━━━━━\u001b[0m \u001b[32m0.2/2.3 MB\u001b[0m \u001b[31m4.7 MB/s\u001b[0m eta \u001b[36m0:00:01\u001b[0m\r\u001b[2K   \u001b[91m━━━━━━━━━━━━━━━━━━━━\u001b[0m\u001b[91m╸\u001b[0m\u001b[90m━━━━━━━━━━━━━━━━━━━\u001b[0m \u001b[32m1.2/2.3 MB\u001b[0m \u001b[31m17.9 MB/s\u001b[0m eta \u001b[36m0:00:01\u001b[0m\r\u001b[2K   \u001b[91m━━━━━━━━━━━━━━━━━━━━━━━━━━━━━━━━━━━━━━━\u001b[0m\u001b[91m╸\u001b[0m \u001b[32m2.3/2.3 MB\u001b[0m \u001b[31m29.1 MB/s\u001b[0m eta \u001b[36m0:00:01\u001b[0m\r\u001b[2K   \u001b[90m━━━━━━━━━━━━━━━━━━━━━━━━━━━━━━━━━━━━━━━━\u001b[0m \u001b[32m2.3/2.3 MB\u001b[0m \u001b[31m21.2 MB/s\u001b[0m eta \u001b[36m0:00:00\u001b[0m\n",
            "\u001b[?25hInstalling collected packages: pycryptodome\n",
            "Successfully installed pycryptodome-3.22.0\n"
          ]
        }
      ]
    },
    {
      "cell_type": "code",
      "execution_count": 3,
      "metadata": {
        "id": "KDI-dqkwjOag"
      },
      "outputs": [],
      "source": [
        "from Crypto.Cipher import ChaCha20\n",
        "from Crypto.Random import get_random_bytes\n",
        "import binascii\n"
      ]
    },
    {
      "cell_type": "code",
      "source": [
        "def chacha20_encrypt(plaintext, key, nonce): #creates 256 bit key and 64 bit nonce\n",
        "    cipher = ChaCha20.new(key=key, nonce=nonce) #encrypts the plaintext\n",
        "    ciphertext = cipher.encrypt(plaintext.encode()) #produces cipher text\n",
        "    return ciphertext"
      ],
      "metadata": {
        "id": "WMf5_stfjoJx"
      },
      "execution_count": 4,
      "outputs": []
    },
    {
      "cell_type": "code",
      "source": [
        "def chacha20_decrypt(ciphertext, key, nonce):\n",
        "    try:\n",
        "        cipher = ChaCha20.new(key=key, nonce=nonce) #creates the cipher with the same key and nonce\n",
        "        decrypted_text = cipher.decrypt(ciphertext).decode() #decrypt cipher\n",
        "        return decrypted_text\n",
        "    except Exception as e:\n",
        "        return f\"Decryption failed: {e}\"\n"
      ],
      "metadata": {
        "id": "VzdbpXBDjgWF"
      },
      "execution_count": 5,
      "outputs": []
    },
    {
      "cell_type": "code",
      "source": [
        "if __name__ == \"__main__\": #ensures the script runs\n",
        "    key = get_random_bytes(32)  #genrates randon key\n",
        "    nonce = get_random_bytes(8)  #genrates randon nonce\n"
      ],
      "metadata": {
        "id": "JOtuR7usj69J"
      },
      "execution_count": 6,
      "outputs": []
    },
    {
      "cell_type": "code",
      "source": [
        "#encrypting the message\n",
        "plaintext = \"Tyazia did a great Job.\"\n",
        "print(f\"Original plaintext: {plaintext}\")\n",
        "\n",
        "\n",
        "ciphertext = chacha20_encrypt(plaintext, key, nonce)\n",
        "#hex output after encryption\n",
        "print(f\"Hex_Ciphertext: {ciphertext}\")\n",
        "\n",
        "# Convert hex output to string\n",
        "print(f\"Ciphertext: {binascii.hexlify(ciphertext).decode()}\")\n",
        "\n",
        "#decrypt the message\n",
        "decrypted_text = chacha20_decrypt(ciphertext, key, nonce)\n",
        "#decrypting text to make sure the cipher worked correctly\n",
        "print(f\"Decrypted text: {decrypted_text}\")"
      ],
      "metadata": {
        "colab": {
          "base_uri": "https://localhost:8080/"
        },
        "id": "QU0XHHkulPsQ",
        "outputId": "c400df15-b6dd-4322-fdef-e357fabbe4be"
      },
      "execution_count": 13,
      "outputs": [
        {
          "output_type": "stream",
          "name": "stdout",
          "text": [
            "Original plaintext: Tyazia did a great Job.\n",
            "Hex_Ciphertext: b'\\xcf^$\\x1d\\xfb\\x07\\x9c\\xc3\\xa1\\x01\\xd5$\\x85\\x02\\x1aI\\xf5\\xfbR\\xa2,mF'\n",
            "Ciphertext: cf5e241dfb079cc3a101d52485021a49f5fb52a22c6d46\n",
            "Decrypted text: Tyazia did a great Job.\n"
          ]
        }
      ]
    }
  ]
}